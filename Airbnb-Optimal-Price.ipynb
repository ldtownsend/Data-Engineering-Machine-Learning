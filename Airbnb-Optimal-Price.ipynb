{
 "cells": [
  {
   "cell_type": "code",
   "execution_count": 1,
   "metadata": {},
   "outputs": [],
   "source": [
    "import pandas as pd\n",
    "import numpy as np\n",
    "\n",
    "import warnings\n",
    "warnings.filterwarnings(\"ignore\")"
   ]
  },
  {
   "cell_type": "code",
   "execution_count": 39,
   "metadata": {},
   "outputs": [
    {
     "name": "stdout",
     "output_type": "stream",
     "text": [
      "The dataset has 22552 rows and 96 columns.\n",
      "It contains 0 duplicates.\n"
     ]
    }
   ],
   "source": [
    "df = pd.read_csv('listings_summary.csv')\n",
    "\n",
    "# checking shape\n",
    "print(\"The dataset has {} rows and {} columns.\".format(*df.shape))\n",
    "\n",
    "# ... and duplicates\n",
    "print(\"It contains {} duplicates.\".format(df.duplicated().sum()))"
   ]
  },
  {
   "cell_type": "code",
   "execution_count": 40,
   "metadata": {},
   "outputs": [
    {
     "name": "stdout",
     "output_type": "stream",
     "text": [
      "The dataset has 22552 rows and 12 columns - after dropping irrelevant columns.\n"
     ]
    }
   ],
   "source": [
    "columns_to_keep = ['neighbourhood_group_cleansed', 'bathrooms', 'bedrooms', 'beds', 'bed_type', 'amenities',\n",
    "                   'property_type', 'room_type', 'price', 'cleaning_fee', 'extra_people', 'security_deposit']\n",
    "\n",
    "df = df[columns_to_keep]\n",
    "print(\"The dataset has {} rows and {} columns - after dropping irrelevant columns.\".format(*df.shape))"
   ]
  },
  {
   "cell_type": "code",
   "execution_count": 41,
   "metadata": {},
   "outputs": [
    {
     "data": {
      "text/plain": [
       "neighbourhood_group_cleansed     object\n",
       "bathrooms                       float64\n",
       "bedrooms                        float64\n",
       "beds                            float64\n",
       "bed_type                         object\n",
       "amenities                        object\n",
       "property_type                    object\n",
       "room_type                        object\n",
       "price                            object\n",
       "cleaning_fee                     object\n",
       "extra_people                     object\n",
       "security_deposit                 object\n",
       "dtype: object"
      ]
     },
     "execution_count": 41,
     "metadata": {},
     "output_type": "execute_result"
    }
   ],
   "source": [
    "df.dtypes"
   ]
  },
  {
   "cell_type": "code",
   "execution_count": 42,
   "metadata": {},
   "outputs": [
    {
     "data": {
      "text/plain": [
       "neighbourhood_group_cleansed       0\n",
       "bathrooms                         32\n",
       "bedrooms                          18\n",
       "beds                              40\n",
       "bed_type                           0\n",
       "amenities                          0\n",
       "property_type                      0\n",
       "room_type                          0\n",
       "price                              0\n",
       "cleaning_fee                    7146\n",
       "extra_people                       0\n",
       "security_deposit                9361\n",
       "dtype: int64"
      ]
     },
     "execution_count": 42,
     "metadata": {},
     "output_type": "execute_result"
    }
   ],
   "source": [
    "df.isnull().sum()"
   ]
  },
  {
   "cell_type": "code",
   "execution_count": 43,
   "metadata": {},
   "outputs": [],
   "source": [
    "# For cleaning fee and security deposit, replace nulls with 0s.\n",
    "df.cleaning_fee.fillna('$0.00', inplace=True)\n",
    "df.security_deposit.fillna('$0.00', inplace=True)"
   ]
  },
  {
   "cell_type": "code",
   "execution_count": 44,
   "metadata": {},
   "outputs": [],
   "source": [
    "# drop the ~40 or so listings which don't include key info (bathrooms, bedrooms, beds)\n",
    "df = df.dropna()"
   ]
  },
  {
   "cell_type": "code",
   "execution_count": 45,
   "metadata": {},
   "outputs": [
    {
     "data": {
      "text/plain": [
       "Spandau                      122\n",
       "Marzahn - Hellersdorf        141\n",
       "Reinickendorf                245\n",
       "Steglitz - Zehlendorf        436\n",
       "Treptow - Köpenick           593\n",
       "Lichtenberg                  677\n",
       "Tempelhof - Schöneberg      1554\n",
       "Charlottenburg-Wilm.        1581\n",
       "Neukölln                    3486\n",
       "Pankow                      3532\n",
       "Mitte                       4620\n",
       "Friedrichshain-Kreuzberg    5485\n",
       "Name: neighbourhood_group_cleansed, dtype: int64"
      ]
     },
     "execution_count": 45,
     "metadata": {},
     "output_type": "execute_result"
    }
   ],
   "source": [
    "df['neighbourhood_group_cleansed'].value_counts().sort_values()"
   ]
  },
  {
   "cell_type": "code",
   "execution_count": 46,
   "metadata": {},
   "outputs": [],
   "source": [
    "from collections import Counter"
   ]
  },
  {
   "cell_type": "code",
   "execution_count": 47,
   "metadata": {},
   "outputs": [
    {
     "data": {
      "text/plain": [
       "[('Wifi', 21442),\n",
       " ('Kitchen', 21276),\n",
       " ('Heating', 21129),\n",
       " ('Essentials', 20275),\n",
       " ('Washer', 18449),\n",
       " ('Hair dryer', 14855),\n",
       " ('Laptop friendly workspace', 14422),\n",
       " ('Hangers', 13881),\n",
       " ('Iron', 11184),\n",
       " ('Shampoo', 10631),\n",
       " ('TV', 10092),\n",
       " ('Hot water', 9717),\n",
       " ('Family/kid friendly', 8120),\n",
       " ('Internet', 7889),\n",
       " ('Host greets you', 6656),\n",
       " ('Smoke detector', 6431),\n",
       " ('Buzzer/wireless intercom', 6091),\n",
       " ('Lock on bedroom door', 5283),\n",
       " ('Refrigerator', 5200),\n",
       " ('Free street parking', 5182),\n",
       " ('Dishes and silverware', 5070),\n",
       " ('Elevator', 4862),\n",
       " ('Bed linens', 4838),\n",
       " ('Cooking basics', 4827),\n",
       " ('Stove', 4804),\n",
       " ('Smoking allowed', 4578),\n",
       " ('Oven', 4306),\n",
       " ('translation missing: en.hosting_amenity_50', 4176),\n",
       " ('First aid kit', 3990),\n",
       " ('Cable TV', 3699)]"
      ]
     },
     "execution_count": 47,
     "metadata": {},
     "output_type": "execute_result"
    }
   ],
   "source": [
    "results = Counter()\n",
    "df['amenities'].str.strip('{}')\\\n",
    "               .str.replace('\"', '')\\\n",
    "               .str.lstrip('\\\"')\\\n",
    "               .str.rstrip('\\\"')\\\n",
    "               .str.split(',')\\\n",
    "               .apply(results.update)\n",
    "\n",
    "results.most_common(30)"
   ]
  },
  {
   "cell_type": "code",
   "execution_count": 48,
   "metadata": {},
   "outputs": [],
   "source": [
    "# Performing the manual equivalent of one-hot encoding for the top 20 most popular amenities.\n",
    "df['Wifi'] = df['amenities'].str.contains('Wifi')\n",
    "df['Kitchen'] = df['amenities'].str.contains('Kitchen')\n",
    "df['Heating'] = df['amenities'].str.contains('Heating')\n",
    "df['Essentials'] = df['amenities'].str.contains('Essentials')\n",
    "df['Hair dryer'] = df['amenities'].str.contains('Hair dryer')\n",
    "df['Laptop friendly workspace'] = df['amenities'].str.contains('Laptop friendly workspace')\n",
    "df['Hangers'] = df['amenities'].str.contains('Hangers')\n",
    "df['Iron'] = df['amenities'].str.contains('Iron')\n",
    "df['Shampoo'] = df['amenities'].str.contains('Shampoo')\n",
    "df['TV'] = df['amenities'].str.contains('TV')\n",
    "df['Hot water'] = df['amenities'].str.contains('Hot water')\n",
    "df['Internet'] = df['amenities'].str.contains('Internet')\n",
    "df['Host greets you'] = df['amenities'].str.contains('Host greets you')\n",
    "df['Smoke detector'] = df['amenities'].str.contains('Smoke detector')\n",
    "df['Buzzer/wireless intercom'] = df['amenities'].str.contains('Buzzer/wireless intercom')\n",
    "df['Lock on bedroom door'] = df['amenities'].str.contains('Lock on bedroom door')\n",
    "df['Buzzer/wireless intercom'] = df['amenities'].str.contains('Buzzer/wireless intercom')\n",
    "df['Refrigerator'] = df['amenities'].str.contains('Refrigerator')\n",
    "df['Free street parking'] = df['amenities'].str.contains('Free street parking')\n",
    "df['Dishes and silverware'] = df['amenities'].str.contains('Dishes and silverware')"
   ]
  },
  {
   "cell_type": "code",
   "execution_count": 49,
   "metadata": {},
   "outputs": [
    {
     "data": {
      "text/plain": [
       "neighbourhood_group_cleansed     object\n",
       "bathrooms                       float64\n",
       "bedrooms                        float64\n",
       "beds                            float64\n",
       "bed_type                         object\n",
       "amenities                        object\n",
       "property_type                    object\n",
       "room_type                        object\n",
       "price                            object\n",
       "cleaning_fee                     object\n",
       "extra_people                     object\n",
       "security_deposit                 object\n",
       "Wifi                               bool\n",
       "Kitchen                            bool\n",
       "Heating                            bool\n",
       "Essentials                         bool\n",
       "Hair dryer                         bool\n",
       "Laptop friendly workspace          bool\n",
       "Hangers                            bool\n",
       "Iron                               bool\n",
       "Shampoo                            bool\n",
       "TV                                 bool\n",
       "Hot water                          bool\n",
       "Internet                           bool\n",
       "Host greets you                    bool\n",
       "Smoke detector                     bool\n",
       "Buzzer/wireless intercom           bool\n",
       "Lock on bedroom door               bool\n",
       "Refrigerator                       bool\n",
       "Free street parking                bool\n",
       "Dishes and silverware              bool\n",
       "dtype: object"
      ]
     },
     "execution_count": 49,
     "metadata": {},
     "output_type": "execute_result"
    }
   ],
   "source": [
    "df.dtypes"
   ]
  },
  {
   "cell_type": "code",
   "execution_count": 53,
   "metadata": {},
   "outputs": [],
   "source": [
    "df = df.drop(columns=['amenities'])"
   ]
  },
  {
   "cell_type": "code",
   "execution_count": 50,
   "metadata": {},
   "outputs": [],
   "source": [
    "# removing the dollar sign and comma, changing the type to float for price, cleaning_fee, and security_deposit\n",
    "df.price = df.price.str.replace('$', '').str.replace(',', '').astype(float)\n",
    "df.cleaning_fee = df.cleaning_fee.str.replace('$', '').str.replace(',', '').astype(float)\n",
    "df.security_deposit = df.security_deposit.str.replace('$', '').str.replace(',', '').astype(float)\n",
    "df.extra_people = df.extra_people.str.replace('$', '').str.replace(',', '').astype(float)"
   ]
  },
  {
   "cell_type": "code",
   "execution_count": 54,
   "metadata": {},
   "outputs": [],
   "source": [
    "from sklearn.model_selection import train_test_split\n",
    "\n",
    "# Split train into train & val\n",
    "train, val = train_test_split(df, train_size=0.80, test_size=0.20, \n",
    "                              random_state=42)"
   ]
  },
  {
   "cell_type": "code",
   "execution_count": 55,
   "metadata": {},
   "outputs": [],
   "source": [
    "target = 'price'\n",
    "X_train = train.drop(columns=target)\n",
    "y_train = train[target]\n",
    "X_val = train.drop(columns=target)\n",
    "y_val = train[target]"
   ]
  },
  {
   "cell_type": "code",
   "execution_count": 56,
   "metadata": {},
   "outputs": [],
   "source": [
    "import category_encoders as ce\n",
    "# from sklearn.impute import SimpleImputer\n",
    "from sklearn.ensemble import RandomForestRegressor\n",
    "from sklearn.model_selection import train_test_split\n",
    "from sklearn.pipeline import make_pipeline"
   ]
  },
  {
   "cell_type": "code",
   "execution_count": 62,
   "metadata": {},
   "outputs": [
    {
     "name": "stdout",
     "output_type": "stream",
     "text": [
      "Validation Accuracy 0.9172502179602054\n"
     ]
    }
   ],
   "source": [
    "pipeline = make_pipeline(\n",
    "    ce.OneHotEncoder(),\n",
    "    RandomForestRegressor(n_estimators=50, random_state=42, n_jobs=-1)\n",
    ")\n",
    "\n",
    "# Fit on train, score on val\n",
    "pipeline.fit(X_train, y_train)\n",
    "print('Validation Accuracy', pipeline.score(X_val, y_val))"
   ]
  }
 ],
 "metadata": {
  "kernelspec": {
   "display_name": "U4-S1-NLP (Python3)",
   "language": "python",
   "name": "u4-s1-nlp"
  },
  "language_info": {
   "codemirror_mode": {
    "name": "ipython",
    "version": 3
   },
   "file_extension": ".py",
   "mimetype": "text/x-python",
   "name": "python",
   "nbconvert_exporter": "python",
   "pygments_lexer": "ipython3",
   "version": "3.7.0"
  }
 },
 "nbformat": 4,
 "nbformat_minor": 2
}
