{
 "cells": [
  {
   "cell_type": "markdown",
   "metadata": {},
   "source": [
    "## Load the data"
   ]
  },
  {
   "cell_type": "code",
   "execution_count": 1,
   "metadata": {},
   "outputs": [],
   "source": [
    "import pandas as pd\n",
    "import numpy as np\n",
    "\n",
    "import warnings\n",
    "warnings.filterwarnings(\"ignore\")"
   ]
  },
  {
   "cell_type": "code",
   "execution_count": 26,
   "metadata": {},
   "outputs": [
    {
     "name": "stdout",
     "output_type": "stream",
     "text": [
      "The dataset has 22552 rows and 96 columns.\n",
      "It contains 0 duplicates.\n"
     ]
    }
   ],
   "source": [
    "df = pd.read_csv('listings_summary.csv')\n",
    "\n",
    "# checking shape\n",
    "print(\"The dataset has {} rows and {} columns.\".format(*df.shape))\n",
    "\n",
    "# ... and duplicates\n",
    "print(\"It contains {} duplicates.\".format(df.duplicated().sum()))"
   ]
  },
  {
   "cell_type": "code",
   "execution_count": 27,
   "metadata": {},
   "outputs": [
    {
     "name": "stdout",
     "output_type": "stream",
     "text": [
      "The dataset has 22552 rows and 12 columns - after dropping irrelevant columns.\n"
     ]
    }
   ],
   "source": [
    "columns_to_keep = ['neighbourhood_group_cleansed', 'bathrooms', 'bedrooms', 'beds', 'bed_type', 'amenities',\n",
    "                   'room_type', 'price', 'cleaning_fee', 'extra_people', 'security_deposit', 'minimum_nights']\n",
    "\n",
    "df = df[columns_to_keep]\n",
    "print(\"The dataset has {} rows and {} columns - after dropping irrelevant columns.\".format(*df.shape))"
   ]
  },
  {
   "cell_type": "code",
   "execution_count": 28,
   "metadata": {},
   "outputs": [],
   "source": [
    "# For cleaning fee and security deposit, replace nulls with 0s.\n",
    "df.cleaning_fee.fillna('$0.00', inplace=True)\n",
    "df.security_deposit.fillna('$0.00', inplace=True)"
   ]
  },
  {
   "cell_type": "markdown",
   "metadata": {},
   "source": [
    "### Drop NaNs and remove outliers"
   ]
  },
  {
   "cell_type": "code",
   "execution_count": 29,
   "metadata": {},
   "outputs": [],
   "source": [
    "# drop the ~40 or so listings which don't include key info (bathrooms, bedrooms, beds)\n",
    "df = df.dropna()"
   ]
  },
  {
   "cell_type": "code",
   "execution_count": 30,
   "metadata": {},
   "outputs": [
    {
     "data": {
      "text/html": [
       "<div>\n",
       "<style scoped>\n",
       "    .dataframe tbody tr th:only-of-type {\n",
       "        vertical-align: middle;\n",
       "    }\n",
       "\n",
       "    .dataframe tbody tr th {\n",
       "        vertical-align: top;\n",
       "    }\n",
       "\n",
       "    .dataframe thead th {\n",
       "        text-align: right;\n",
       "    }\n",
       "</style>\n",
       "<table border=\"1\" class=\"dataframe\">\n",
       "  <thead>\n",
       "    <tr style=\"text-align: right;\">\n",
       "      <th></th>\n",
       "      <th>neighbourhood_group_cleansed</th>\n",
       "      <th>bathrooms</th>\n",
       "      <th>bedrooms</th>\n",
       "      <th>beds</th>\n",
       "      <th>bed_type</th>\n",
       "      <th>amenities</th>\n",
       "      <th>room_type</th>\n",
       "      <th>price</th>\n",
       "      <th>cleaning_fee</th>\n",
       "      <th>extra_people</th>\n",
       "      <th>security_deposit</th>\n",
       "      <th>minimum_nights</th>\n",
       "    </tr>\n",
       "  </thead>\n",
       "  <tbody>\n",
       "    <tr>\n",
       "      <th>0</th>\n",
       "      <td>Mitte</td>\n",
       "      <td>1.0</td>\n",
       "      <td>1.0</td>\n",
       "      <td>2.0</td>\n",
       "      <td>Real Bed</td>\n",
       "      <td>{TV,\"Cable TV\",Wifi,Kitchen,Gym,Heating,\"Famil...</td>\n",
       "      <td>Entire home/apt</td>\n",
       "      <td>$60.00</td>\n",
       "      <td>$30.00</td>\n",
       "      <td>$28.00</td>\n",
       "      <td>$200.00</td>\n",
       "      <td>4</td>\n",
       "    </tr>\n",
       "    <tr>\n",
       "      <th>1</th>\n",
       "      <td>Pankow</td>\n",
       "      <td>1.0</td>\n",
       "      <td>1.0</td>\n",
       "      <td>1.0</td>\n",
       "      <td>Real Bed</td>\n",
       "      <td>{Wifi,Kitchen,Elevator,Heating,Washer,Essentia...</td>\n",
       "      <td>Private room</td>\n",
       "      <td>$17.00</td>\n",
       "      <td>$0.00</td>\n",
       "      <td>$0.00</td>\n",
       "      <td>$0.00</td>\n",
       "      <td>2</td>\n",
       "    </tr>\n",
       "    <tr>\n",
       "      <th>2</th>\n",
       "      <td>Pankow</td>\n",
       "      <td>1.0</td>\n",
       "      <td>1.0</td>\n",
       "      <td>2.0</td>\n",
       "      <td>Real Bed</td>\n",
       "      <td>{Internet,Wifi,Kitchen,\"Buzzer/wireless interc...</td>\n",
       "      <td>Entire home/apt</td>\n",
       "      <td>$90.00</td>\n",
       "      <td>$50.00</td>\n",
       "      <td>$20.00</td>\n",
       "      <td>$200.00</td>\n",
       "      <td>62</td>\n",
       "    </tr>\n",
       "    <tr>\n",
       "      <th>3</th>\n",
       "      <td>Tempelhof - Schöneberg</td>\n",
       "      <td>1.0</td>\n",
       "      <td>1.0</td>\n",
       "      <td>1.0</td>\n",
       "      <td>Pull-out Sofa</td>\n",
       "      <td>{Internet,Wifi,\"Pets allowed\",\"Pets live on th...</td>\n",
       "      <td>Private room</td>\n",
       "      <td>$26.00</td>\n",
       "      <td>$30.00</td>\n",
       "      <td>$18.00</td>\n",
       "      <td>$250.00</td>\n",
       "      <td>5</td>\n",
       "    </tr>\n",
       "    <tr>\n",
       "      <th>4</th>\n",
       "      <td>Pankow</td>\n",
       "      <td>1.0</td>\n",
       "      <td>1.0</td>\n",
       "      <td>2.0</td>\n",
       "      <td>Real Bed</td>\n",
       "      <td>{Wifi,Heating,\"Family/kid friendly\",Essentials...</td>\n",
       "      <td>Private room</td>\n",
       "      <td>$42.00</td>\n",
       "      <td>$0.00</td>\n",
       "      <td>$24.00</td>\n",
       "      <td>$0.00</td>\n",
       "      <td>2</td>\n",
       "    </tr>\n",
       "  </tbody>\n",
       "</table>\n",
       "</div>"
      ],
      "text/plain": [
       "  neighbourhood_group_cleansed  bathrooms  bedrooms  beds       bed_type  \\\n",
       "0                        Mitte        1.0       1.0   2.0       Real Bed   \n",
       "1                       Pankow        1.0       1.0   1.0       Real Bed   \n",
       "2                       Pankow        1.0       1.0   2.0       Real Bed   \n",
       "3       Tempelhof - Schöneberg        1.0       1.0   1.0  Pull-out Sofa   \n",
       "4                       Pankow        1.0       1.0   2.0       Real Bed   \n",
       "\n",
       "                                           amenities        room_type   price  \\\n",
       "0  {TV,\"Cable TV\",Wifi,Kitchen,Gym,Heating,\"Famil...  Entire home/apt  $60.00   \n",
       "1  {Wifi,Kitchen,Elevator,Heating,Washer,Essentia...     Private room  $17.00   \n",
       "2  {Internet,Wifi,Kitchen,\"Buzzer/wireless interc...  Entire home/apt  $90.00   \n",
       "3  {Internet,Wifi,\"Pets allowed\",\"Pets live on th...     Private room  $26.00   \n",
       "4  {Wifi,Heating,\"Family/kid friendly\",Essentials...     Private room  $42.00   \n",
       "\n",
       "  cleaning_fee extra_people security_deposit  minimum_nights  \n",
       "0       $30.00       $28.00          $200.00               4  \n",
       "1        $0.00        $0.00            $0.00               2  \n",
       "2       $50.00       $20.00          $200.00              62  \n",
       "3       $30.00       $18.00          $250.00               5  \n",
       "4        $0.00       $24.00            $0.00               2  "
      ]
     },
     "execution_count": 30,
     "metadata": {},
     "output_type": "execute_result"
    }
   ],
   "source": [
    "df.head()"
   ]
  },
  {
   "cell_type": "code",
   "execution_count": 31,
   "metadata": {},
   "outputs": [],
   "source": [
    "df = df.sort_values(by=['price'], ascending=False)"
   ]
  },
  {
   "cell_type": "markdown",
   "metadata": {},
   "source": [
    "## Wrangle function for model "
   ]
  },
  {
   "cell_type": "code",
   "execution_count": 34,
   "metadata": {},
   "outputs": [],
   "source": [
    "# Effectively one-hot encoding by hand FOR THE MODEL \n",
    "df['Wifi'] = df['amenities'].str.contains('Wifi')\n",
    "df['Kitchen'] = df['amenities'].str.contains('Kitchen')\n",
    "df['Heating'] = df['amenities'].str.contains('Heating')\n",
    "df['Essentials'] = df['amenities'].str.contains('Essentials')\n",
    "df['Hair dryer'] = df['amenities'].str.contains('Hair dryer')\n",
    "df['Laptop friendly workspace'] = df['amenities'].str.contains('Laptop friendly workspace')\n",
    "df['Hangers'] = df['amenities'].str.contains('Hangers')\n",
    "df['Iron'] = df['amenities'].str.contains('Iron')\n",
    "df['Shampoo'] = df['amenities'].str.contains('Shampoo')\n",
    "df['TV'] = df['amenities'].str.contains('TV')\n",
    "df['Hot water'] = df['amenities'].str.contains('Hot water')\n",
    "df['Internet'] = df['amenities'].str.contains('Internet')\n",
    "df['Host greets you'] = df['amenities'].str.contains('Host greets you')\n",
    "df['Smoke detector'] = df['amenities'].str.contains('Smoke detector')\n",
    "df['Buzzer/wireless intercom'] = df['amenities'].str.contains('Buzzer/wireless intercom')\n",
    "df['Lock on bedroom door'] = df['amenities'].str.contains('Lock on bedroom door')\n",
    "df['Buzzer/wireless intercom'] = df['amenities'].str.contains('Buzzer/wireless intercom')\n",
    "df['Refrigerator'] = df['amenities'].str.contains('Refrigerator')\n",
    "df['Free street parking'] = df['amenities'].str.contains('Free street parking')\n",
    "df['Dishes and silverware'] = df['amenities'].str.contains('Dishes and silverware')\n",
    "df = df.drop(columns=['amenities'])"
   ]
  },
  {
   "cell_type": "code",
   "execution_count": 35,
   "metadata": {},
   "outputs": [],
   "source": [
    "# removing the dollar sign and comma, changing the type to float for price, cleaning_fee, and security_deposit\n",
    "df.price = df.price.str.replace('$', '').str.replace(',', '').astype(float)\n",
    "df.cleaning_fee = df.cleaning_fee.str.replace('$', '').str.replace(',', '').astype(float)\n",
    "df.security_deposit = df.security_deposit.str.replace('$', '').str.replace(',', '').astype(float)\n",
    "df.extra_people = df.extra_people.str.replace('$', '').str.replace(',', '').astype(float)"
   ]
  },
  {
   "cell_type": "code",
   "execution_count": 36,
   "metadata": {},
   "outputs": [],
   "source": [
    "# Taking spaces out of the categorical features' data points\n",
    "df.neighbourhood_group_cleansed = df.neighbourhood_group_cleansed.str.replace(' ', '')\n",
    "df.bed_type = df.bed_type.str.replace(' ', '')\n",
    "df.room_type = df.room_type.str.replace(' ', '')"
   ]
  },
  {
   "cell_type": "code",
   "execution_count": 42,
   "metadata": {},
   "outputs": [],
   "source": [
    "from sklearn.model_selection import train_test_split\n",
    "\n",
    "# Split train into train & val\n",
    "train, val = train_test_split(df, train_size=0.80, test_size=0.20, \n",
    "                              random_state=42)"
   ]
  },
  {
   "cell_type": "code",
   "execution_count": 43,
   "metadata": {},
   "outputs": [],
   "source": [
    "target = 'price'\n",
    "X_train = train.drop(columns=target)\n",
    "y_train = train[target]\n",
    "X_val = train.drop(columns=target)\n",
    "y_val = train[target]"
   ]
  },
  {
   "cell_type": "code",
   "execution_count": 44,
   "metadata": {},
   "outputs": [],
   "source": [
    "import category_encoders as ce\n",
    "from sklearn.ensemble import RandomForestRegressor\n",
    "from sklearn.metrics import r2_score, mean_absolute_error, mean_squared_error\n",
    "from sklearn.model_selection import train_test_split\n",
    "from sklearn.pipeline import make_pipeline"
   ]
  },
  {
   "cell_type": "code",
   "execution_count": 45,
   "metadata": {},
   "outputs": [
    {
     "name": "stdout",
     "output_type": "stream",
     "text": [
      "Validation Accuracy / R-Squared: 0.9360610154232083\n",
      "Mean Absolute Error: 10.662396935352527\n",
      "Mean Squared Error: 3565.380252406006\n"
     ]
    }
   ],
   "source": [
    "# Instantiate the model and encode categorical variables\n",
    "rfmodel = make_pipeline(\n",
    "    ce.OneHotEncoder(),\n",
    "    RandomForestRegressor(n_estimators=50, random_state=42, n_jobs=-1)\n",
    ")\n",
    "\n",
    "# Fit on train, score on val\n",
    "rfmodel.fit(X_train, y_train)\n",
    "rf_pred = rfmodel.predict(X_val)\n",
    "\n",
    "print('Validation Accuracy / R-Squared:', rfmodel.score(X_val, y_val)) \n",
    "print('Mean Absolute Error:', mean_absolute_error(y_val, rf_pred))\n",
    "print('Mean Squared Error:', mean_squared_error(y_val, rf_pred))"
   ]
  },
  {
   "cell_type": "code",
   "execution_count": 46,
   "metadata": {},
   "outputs": [],
   "source": [
    "encoder = rfmodel.named_steps['onehotencoder']\n",
    "encoded = encoder.transform(X_train)"
   ]
  },
  {
   "cell_type": "code",
   "execution_count": 47,
   "metadata": {},
   "outputs": [
    {
     "data": {
      "image/png": "[encoded data removed]",
      "text/plain": [
       "<Figure size 720x1080 with 1 Axes>"
      ]
     },
     "metadata": {
      "needs_background": "light"
     },
     "output_type": "display_data"
    }
   ],
   "source": [
    "%matplotlib inline\n",
    "import matplotlib.pyplot as plt\n",
    "\n",
    "# Get feature importances\n",
    "rf = rfmodel.named_steps['randomforestregressor']\n",
    "importances = pd.Series(rf.feature_importances_, encoded.columns)\n",
    "\n",
    "# Plot feature importances\n",
    "n = 30\n",
    "plt.figure(figsize=(10,n/2))\n",
    "plt.title(f'Top {n} features')\n",
    "importances.sort_values()[-n:].plot.barh(color='gray');"
   ]
  },
  {
   "cell_type": "code",
   "execution_count": null,
   "metadata": {},
   "outputs": [],
   "source": [
    "import pickle\n",
    "pickle.dump(rfmodel, open('model.pkl','wb'))"
   ]
  },
  {
   "cell_type": "markdown",
   "metadata": {},
   "source": [
    "## Wrangle function for taking input data"
   ]
  },
  {
   "cell_type": "code",
   "execution_count": null,
   "metadata": {},
   "outputs": [],
   "source": [
    "# Effectively one-hot encoding by hand FOR THE MODEL \n",
    "df['Wifi'] = df['amenities'].str.contains('Wifi')\n",
    "df['Kitchen'] = df['amenities'].str.contains('Kitchen')\n",
    "df['Heating'] = df['amenities'].str.contains('Heating')\n",
    "df['Essentials'] = df['amenities'].str.contains('Essentials')\n",
    "df['Hair dryer'] = df['amenities'].str.contains('Hairdryer')\n",
    "df['Laptop friendly workspace'] = df['amenities'].str.contains('Laptopfriendlyworkspace')\n",
    "df['Hangers'] = df['amenities'].str.contains('Hangers')\n",
    "df['Iron'] = df['amenities'].str.contains('Iron')\n",
    "df['Shampoo'] = df['amenities'].str.contains('Shampoo')\n",
    "df['TV'] = df['amenities'].str.contains('TV')\n",
    "df['Hot water'] = df['amenities'].str.contains('Hotwater')\n",
    "df['Internet'] = df['amenities'].str.contains('Internet')\n",
    "df['Host greets you'] = df['amenities'].str.contains('Hostgreetsyou')\n",
    "df['Smoke detector'] = df['amenities'].str.contains('Smokedetector')\n",
    "df['Buzzer/wireless intercom'] = df['amenities'].str.contains('Buzzer/wirelessintercom')\n",
    "df['Lock on bedroom door'] = df['amenities'].str.contains('Lockonbedroomdoor')\n",
    "df['Buzzer/wireless intercom'] = df['amenities'].str.contains('Buzzer/wirelessintercom')\n",
    "df['Refrigerator'] = df['amenities'].str.contains('Refrigerator')\n",
    "df['Free street parking'] = df['amenities'].str.contains('Freestreetparking')\n",
    "df['Dishes and silverware'] = df['amenities'].str.contains('Dishesandsilverware')\n",
    "df = df.drop(columns=['amenities'])"
   ]
  },
  {
   "cell_type": "code",
   "execution_count": null,
   "metadata": {},
   "outputs": [],
   "source": []
  }
 ],
 "metadata": {
  "kernelspec": {
   "display_name": "Python 3",
   "language": "python",
   "name": "python3"
  },
  "language_info": {
   "codemirror_mode": {
    "name": "ipython",
    "version": 3
   },
   "file_extension": ".py",
   "mimetype": "text/x-python",
   "name": "python",
   "nbconvert_exporter": "python",
   "pygments_lexer": "ipython3",
   "version": "3.7.4"
  }
 },
 "nbformat": 4,
 "nbformat_minor": 2
}
